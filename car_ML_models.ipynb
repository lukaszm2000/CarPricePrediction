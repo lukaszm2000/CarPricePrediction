{
 "cells": [
  {
   "cell_type": "code",
   "execution_count": 1,
   "metadata": {},
   "outputs": [
    {
     "ename": "KeyboardInterrupt",
     "evalue": "",
     "output_type": "error",
     "traceback": [
      "\u001b[1;31m---------------------------------------------------------------------------\u001b[0m",
      "\u001b[1;31mKeyboardInterrupt\u001b[0m                         Traceback (most recent call last)",
      "Cell \u001b[1;32mIn[1], line 1\u001b[0m\n\u001b[1;32m----> 1\u001b[0m \u001b[38;5;28;01mimport\u001b[39;00m \u001b[38;5;21;01mpandas\u001b[39;00m \u001b[38;5;28;01mas\u001b[39;00m \u001b[38;5;21;01mpd\u001b[39;00m\n",
      "File \u001b[1;32m~\\AppData\\Local\\Packages\\PythonSoftwareFoundation.Python.3.11_qbz5n2kfra8p0\\LocalCache\\local-packages\\Python311\\site-packages\\pandas\\__init__.py:48\u001b[0m\n\u001b[0;32m     45\u001b[0m \u001b[38;5;66;03m# let init-time option registration happen\u001b[39;00m\n\u001b[0;32m     46\u001b[0m \u001b[38;5;28;01mimport\u001b[39;00m \u001b[38;5;21;01mpandas\u001b[39;00m\u001b[38;5;21;01m.\u001b[39;00m\u001b[38;5;21;01mcore\u001b[39;00m\u001b[38;5;21;01m.\u001b[39;00m\u001b[38;5;21;01mconfig_init\u001b[39;00m  \u001b[38;5;66;03m# pyright: ignore # noqa:F401\u001b[39;00m\n\u001b[1;32m---> 48\u001b[0m \u001b[38;5;28;01mfrom\u001b[39;00m \u001b[38;5;21;01mpandas\u001b[39;00m\u001b[38;5;21;01m.\u001b[39;00m\u001b[38;5;21;01mcore\u001b[39;00m\u001b[38;5;21;01m.\u001b[39;00m\u001b[38;5;21;01mapi\u001b[39;00m \u001b[38;5;28;01mimport\u001b[39;00m (\n\u001b[0;32m     49\u001b[0m     \u001b[38;5;66;03m# dtype\u001b[39;00m\n\u001b[0;32m     50\u001b[0m     ArrowDtype,\n\u001b[0;32m     51\u001b[0m     Int8Dtype,\n\u001b[0;32m     52\u001b[0m     Int16Dtype,\n\u001b[0;32m     53\u001b[0m     Int32Dtype,\n\u001b[0;32m     54\u001b[0m     Int64Dtype,\n\u001b[0;32m     55\u001b[0m     UInt8Dtype,\n\u001b[0;32m     56\u001b[0m     UInt16Dtype,\n\u001b[0;32m     57\u001b[0m     UInt32Dtype,\n\u001b[0;32m     58\u001b[0m     UInt64Dtype,\n\u001b[0;32m     59\u001b[0m     Float32Dtype,\n\u001b[0;32m     60\u001b[0m     Float64Dtype,\n\u001b[0;32m     61\u001b[0m     CategoricalDtype,\n\u001b[0;32m     62\u001b[0m     PeriodDtype,\n\u001b[0;32m     63\u001b[0m     IntervalDtype,\n\u001b[0;32m     64\u001b[0m     DatetimeTZDtype,\n\u001b[0;32m     65\u001b[0m     StringDtype,\n\u001b[0;32m     66\u001b[0m     BooleanDtype,\n\u001b[0;32m     67\u001b[0m     \u001b[38;5;66;03m# missing\u001b[39;00m\n\u001b[0;32m     68\u001b[0m     NA,\n\u001b[0;32m     69\u001b[0m     isna,\n\u001b[0;32m     70\u001b[0m     isnull,\n\u001b[0;32m     71\u001b[0m     notna,\n\u001b[0;32m     72\u001b[0m     notnull,\n\u001b[0;32m     73\u001b[0m     \u001b[38;5;66;03m# indexes\u001b[39;00m\n\u001b[0;32m     74\u001b[0m     Index,\n\u001b[0;32m     75\u001b[0m     CategoricalIndex,\n\u001b[0;32m     76\u001b[0m     RangeIndex,\n\u001b[0;32m     77\u001b[0m     MultiIndex,\n\u001b[0;32m     78\u001b[0m     IntervalIndex,\n\u001b[0;32m     79\u001b[0m     TimedeltaIndex,\n\u001b[0;32m     80\u001b[0m     DatetimeIndex,\n\u001b[0;32m     81\u001b[0m     PeriodIndex,\n\u001b[0;32m     82\u001b[0m     IndexSlice,\n\u001b[0;32m     83\u001b[0m     \u001b[38;5;66;03m# tseries\u001b[39;00m\n\u001b[0;32m     84\u001b[0m     NaT,\n\u001b[0;32m     85\u001b[0m     Period,\n\u001b[0;32m     86\u001b[0m     period_range,\n\u001b[0;32m     87\u001b[0m     Timedelta,\n\u001b[0;32m     88\u001b[0m     timedelta_range,\n\u001b[0;32m     89\u001b[0m     Timestamp,\n\u001b[0;32m     90\u001b[0m     date_range,\n\u001b[0;32m     91\u001b[0m     bdate_range,\n\u001b[0;32m     92\u001b[0m     Interval,\n\u001b[0;32m     93\u001b[0m     interval_range,\n\u001b[0;32m     94\u001b[0m     DateOffset,\n\u001b[0;32m     95\u001b[0m     \u001b[38;5;66;03m# conversion\u001b[39;00m\n\u001b[0;32m     96\u001b[0m     to_numeric,\n\u001b[0;32m     97\u001b[0m     to_datetime,\n\u001b[0;32m     98\u001b[0m     to_timedelta,\n\u001b[0;32m     99\u001b[0m     \u001b[38;5;66;03m# misc\u001b[39;00m\n\u001b[0;32m    100\u001b[0m     Flags,\n\u001b[0;32m    101\u001b[0m     Grouper,\n\u001b[0;32m    102\u001b[0m     factorize,\n\u001b[0;32m    103\u001b[0m     unique,\n\u001b[0;32m    104\u001b[0m     value_counts,\n\u001b[0;32m    105\u001b[0m     NamedAgg,\n\u001b[0;32m    106\u001b[0m     array,\n\u001b[0;32m    107\u001b[0m     Categorical,\n\u001b[0;32m    108\u001b[0m     set_eng_float_format,\n\u001b[0;32m    109\u001b[0m     Series,\n\u001b[0;32m    110\u001b[0m     DataFrame,\n\u001b[0;32m    111\u001b[0m )\n\u001b[0;32m    113\u001b[0m \u001b[38;5;28;01mfrom\u001b[39;00m \u001b[38;5;21;01mpandas\u001b[39;00m\u001b[38;5;21;01m.\u001b[39;00m\u001b[38;5;21;01mcore\u001b[39;00m\u001b[38;5;21;01m.\u001b[39;00m\u001b[38;5;21;01marrays\u001b[39;00m\u001b[38;5;21;01m.\u001b[39;00m\u001b[38;5;21;01msparse\u001b[39;00m \u001b[38;5;28;01mimport\u001b[39;00m SparseDtype\n\u001b[0;32m    115\u001b[0m \u001b[38;5;28;01mfrom\u001b[39;00m \u001b[38;5;21;01mpandas\u001b[39;00m\u001b[38;5;21;01m.\u001b[39;00m\u001b[38;5;21;01mtseries\u001b[39;00m\u001b[38;5;21;01m.\u001b[39;00m\u001b[38;5;21;01mapi\u001b[39;00m \u001b[38;5;28;01mimport\u001b[39;00m infer_freq\n",
      "File \u001b[1;32m~\\AppData\\Local\\Packages\\PythonSoftwareFoundation.Python.3.11_qbz5n2kfra8p0\\LocalCache\\local-packages\\Python311\\site-packages\\pandas\\core\\api.py:27\u001b[0m\n\u001b[0;32m     15\u001b[0m \u001b[38;5;28;01mfrom\u001b[39;00m \u001b[38;5;21;01mpandas\u001b[39;00m\u001b[38;5;21;01m.\u001b[39;00m\u001b[38;5;21;01mcore\u001b[39;00m\u001b[38;5;21;01m.\u001b[39;00m\u001b[38;5;21;01mdtypes\u001b[39;00m\u001b[38;5;21;01m.\u001b[39;00m\u001b[38;5;21;01mmissing\u001b[39;00m \u001b[38;5;28;01mimport\u001b[39;00m (\n\u001b[0;32m     16\u001b[0m     isna,\n\u001b[0;32m     17\u001b[0m     isnull,\n\u001b[0;32m     18\u001b[0m     notna,\n\u001b[0;32m     19\u001b[0m     notnull,\n\u001b[0;32m     20\u001b[0m )\n\u001b[0;32m     22\u001b[0m \u001b[38;5;28;01mfrom\u001b[39;00m \u001b[38;5;21;01mpandas\u001b[39;00m\u001b[38;5;21;01m.\u001b[39;00m\u001b[38;5;21;01mcore\u001b[39;00m\u001b[38;5;21;01m.\u001b[39;00m\u001b[38;5;21;01malgorithms\u001b[39;00m \u001b[38;5;28;01mimport\u001b[39;00m (\n\u001b[0;32m     23\u001b[0m     factorize,\n\u001b[0;32m     24\u001b[0m     unique,\n\u001b[0;32m     25\u001b[0m     value_counts,\n\u001b[0;32m     26\u001b[0m )\n\u001b[1;32m---> 27\u001b[0m \u001b[38;5;28;01mfrom\u001b[39;00m \u001b[38;5;21;01mpandas\u001b[39;00m\u001b[38;5;21;01m.\u001b[39;00m\u001b[38;5;21;01mcore\u001b[39;00m\u001b[38;5;21;01m.\u001b[39;00m\u001b[38;5;21;01marrays\u001b[39;00m \u001b[38;5;28;01mimport\u001b[39;00m Categorical\n\u001b[0;32m     28\u001b[0m \u001b[38;5;28;01mfrom\u001b[39;00m \u001b[38;5;21;01mpandas\u001b[39;00m\u001b[38;5;21;01m.\u001b[39;00m\u001b[38;5;21;01mcore\u001b[39;00m\u001b[38;5;21;01m.\u001b[39;00m\u001b[38;5;21;01marrays\u001b[39;00m\u001b[38;5;21;01m.\u001b[39;00m\u001b[38;5;21;01marrow\u001b[39;00m \u001b[38;5;28;01mimport\u001b[39;00m ArrowDtype\n\u001b[0;32m     29\u001b[0m \u001b[38;5;28;01mfrom\u001b[39;00m \u001b[38;5;21;01mpandas\u001b[39;00m\u001b[38;5;21;01m.\u001b[39;00m\u001b[38;5;21;01mcore\u001b[39;00m\u001b[38;5;21;01m.\u001b[39;00m\u001b[38;5;21;01marrays\u001b[39;00m\u001b[38;5;21;01m.\u001b[39;00m\u001b[38;5;21;01mboolean\u001b[39;00m \u001b[38;5;28;01mimport\u001b[39;00m BooleanDtype\n",
      "File \u001b[1;32m<frozen importlib._bootstrap>:1176\u001b[0m, in \u001b[0;36m_find_and_load\u001b[1;34m(name, import_)\u001b[0m\n",
      "File \u001b[1;32m<frozen importlib._bootstrap>:1138\u001b[0m, in \u001b[0;36m_find_and_load_unlocked\u001b[1;34m(name, import_)\u001b[0m\n",
      "File \u001b[1;32m<frozen importlib._bootstrap>:1078\u001b[0m, in \u001b[0;36m_find_spec\u001b[1;34m(name, path, target)\u001b[0m\n",
      "File \u001b[1;32m<frozen importlib._bootstrap_external>:1507\u001b[0m, in \u001b[0;36mfind_spec\u001b[1;34m(cls, fullname, path, target)\u001b[0m\n",
      "File \u001b[1;32m<frozen importlib._bootstrap_external>:1479\u001b[0m, in \u001b[0;36m_get_spec\u001b[1;34m(cls, fullname, path, target)\u001b[0m\n",
      "File \u001b[1;32m<frozen importlib._bootstrap_external>:1615\u001b[0m, in \u001b[0;36mfind_spec\u001b[1;34m(self, fullname, target)\u001b[0m\n",
      "File \u001b[1;32m<frozen importlib._bootstrap_external>:147\u001b[0m, in \u001b[0;36m_path_stat\u001b[1;34m(path)\u001b[0m\n",
      "\u001b[1;31mKeyboardInterrupt\u001b[0m: "
     ]
    }
   ],
   "source": [
    "import pandas as pd"
   ]
  },
  {
   "cell_type": "code",
   "execution_count": null,
   "metadata": {},
   "outputs": [],
   "source": [
    "df = pd.read_csv('final_cars.csv')"
   ]
  },
  {
   "cell_type": "code",
   "execution_count": null,
   "metadata": {},
   "outputs": [
    {
     "data": {
      "text/html": [
       "<div>\n",
       "<style scoped>\n",
       "    .dataframe tbody tr th:only-of-type {\n",
       "        vertical-align: middle;\n",
       "    }\n",
       "\n",
       "    .dataframe tbody tr th {\n",
       "        vertical-align: top;\n",
       "    }\n",
       "\n",
       "    .dataframe thead th {\n",
       "        text-align: right;\n",
       "    }\n",
       "</style>\n",
       "<table border=\"1\" class=\"dataframe\">\n",
       "  <thead>\n",
       "    <tr style=\"text-align: right;\">\n",
       "      <th></th>\n",
       "      <th>full_name</th>\n",
       "      <th>registered_year</th>\n",
       "      <th>engine_capacity [cc]</th>\n",
       "      <th>insurance</th>\n",
       "      <th>transmission_type</th>\n",
       "      <th>kms_driven</th>\n",
       "      <th>owner_type</th>\n",
       "      <th>fuel_type</th>\n",
       "      <th>max_power [hp]</th>\n",
       "      <th>seats</th>\n",
       "      <th>mileage [kmpl]</th>\n",
       "      <th>body_type</th>\n",
       "      <th>city</th>\n",
       "      <th>resale_price [USD]</th>\n",
       "    </tr>\n",
       "  </thead>\n",
       "  <tbody>\n",
       "    <tr>\n",
       "      <th>0</th>\n",
       "      <td>Maruti Baleno</td>\n",
       "      <td>2017</td>\n",
       "      <td>1197</td>\n",
       "      <td>Third Party</td>\n",
       "      <td>Manual</td>\n",
       "      <td>40000.0</td>\n",
       "      <td>First Owner</td>\n",
       "      <td>Petrol</td>\n",
       "      <td>80.0</td>\n",
       "      <td>5.0</td>\n",
       "      <td>22</td>\n",
       "      <td>Hatchback</td>\n",
       "      <td>Agra</td>\n",
       "      <td>6540.0</td>\n",
       "    </tr>\n",
       "    <tr>\n",
       "      <th>1</th>\n",
       "      <td>Tata Hexa</td>\n",
       "      <td>2018</td>\n",
       "      <td>2179</td>\n",
       "      <td>Third Party</td>\n",
       "      <td>Automatic</td>\n",
       "      <td>70000.0</td>\n",
       "      <td>First Owner</td>\n",
       "      <td>Diesel</td>\n",
       "      <td>150.0</td>\n",
       "      <td>7.0</td>\n",
       "      <td>18</td>\n",
       "      <td>MUV</td>\n",
       "      <td>Agra</td>\n",
       "      <td>12000.0</td>\n",
       "    </tr>\n",
       "    <tr>\n",
       "      <th>2</th>\n",
       "      <td>Maruti Swift</td>\n",
       "      <td>2015</td>\n",
       "      <td>1197</td>\n",
       "      <td>Third Party</td>\n",
       "      <td>Manual</td>\n",
       "      <td>70000.0</td>\n",
       "      <td>Second Owner</td>\n",
       "      <td>Petrol</td>\n",
       "      <td>80.0</td>\n",
       "      <td>5.0</td>\n",
       "      <td>20</td>\n",
       "      <td>Sedan</td>\n",
       "      <td>Agra</td>\n",
       "      <td>5400.0</td>\n",
       "    </tr>\n",
       "    <tr>\n",
       "      <th>3</th>\n",
       "      <td>Hyundai i10</td>\n",
       "      <td>2009</td>\n",
       "      <td>1086</td>\n",
       "      <td>Third Party</td>\n",
       "      <td>Manual</td>\n",
       "      <td>80000.0</td>\n",
       "      <td>First Owner</td>\n",
       "      <td>Petrol</td>\n",
       "      <td>60.0</td>\n",
       "      <td>5.0</td>\n",
       "      <td>20</td>\n",
       "      <td>Hatchback</td>\n",
       "      <td>Agra</td>\n",
       "      <td>1920.0</td>\n",
       "    </tr>\n",
       "    <tr>\n",
       "      <th>4</th>\n",
       "      <td>Hyundai i20</td>\n",
       "      <td>2015</td>\n",
       "      <td>1197</td>\n",
       "      <td>Third Party</td>\n",
       "      <td>Manual</td>\n",
       "      <td>70000.0</td>\n",
       "      <td>First Owner</td>\n",
       "      <td>Petrol</td>\n",
       "      <td>80.0</td>\n",
       "      <td>5.0</td>\n",
       "      <td>18</td>\n",
       "      <td>Hatchback</td>\n",
       "      <td>Agra</td>\n",
       "      <td>5640.0</td>\n",
       "    </tr>\n",
       "  </tbody>\n",
       "</table>\n",
       "</div>"
      ],
      "text/plain": [
       "       full_name  registered_year  engine_capacity [cc]    insurance  \\\n",
       "0  Maruti Baleno             2017                  1197  Third Party   \n",
       "1      Tata Hexa             2018                  2179  Third Party   \n",
       "2   Maruti Swift             2015                  1197  Third Party   \n",
       "3    Hyundai i10             2009                  1086  Third Party   \n",
       "4    Hyundai i20             2015                  1197  Third Party   \n",
       "\n",
       "  transmission_type  kms_driven    owner_type fuel_type  max_power [hp]  \\\n",
       "0            Manual     40000.0   First Owner    Petrol            80.0   \n",
       "1         Automatic     70000.0   First Owner    Diesel           150.0   \n",
       "2            Manual     70000.0  Second Owner    Petrol            80.0   \n",
       "3            Manual     80000.0   First Owner    Petrol            60.0   \n",
       "4            Manual     70000.0   First Owner    Petrol            80.0   \n",
       "\n",
       "   seats  mileage [kmpl]  body_type  city  resale_price [USD]  \n",
       "0    5.0              22  Hatchback  Agra              6540.0  \n",
       "1    7.0              18        MUV  Agra             12000.0  \n",
       "2    5.0              20      Sedan  Agra              5400.0  \n",
       "3    5.0              20  Hatchback  Agra              1920.0  \n",
       "4    5.0              18  Hatchback  Agra              5640.0  "
      ]
     },
     "execution_count": 117,
     "metadata": {},
     "output_type": "execute_result"
    }
   ],
   "source": [
    "df.head()"
   ]
  },
  {
   "cell_type": "code",
   "execution_count": null,
   "metadata": {},
   "outputs": [
    {
     "data": {
      "text/plain": [
       "Index(['full_name', 'registered_year', 'engine_capacity [cc]', 'insurance',\n",
       "       'transmission_type', 'kms_driven', 'owner_type', 'fuel_type',\n",
       "       'max_power [hp]', 'seats', 'mileage [kmpl]', 'body_type', 'city',\n",
       "       'resale_price [USD]'],\n",
       "      dtype='object')"
      ]
     },
     "execution_count": 118,
     "metadata": {},
     "output_type": "execute_result"
    }
   ],
   "source": [
    "df.columns"
   ]
  },
  {
   "cell_type": "code",
   "execution_count": null,
   "metadata": {},
   "outputs": [
    {
     "data": {
      "text/plain": [
       "15507"
      ]
     },
     "execution_count": 119,
     "metadata": {},
     "output_type": "execute_result"
    }
   ],
   "source": [
    "len(df)"
   ]
  },
  {
   "cell_type": "code",
   "execution_count": null,
   "metadata": {},
   "outputs": [
    {
     "data": {
      "text/plain": [
       "full_name                object\n",
       "registered_year           int64\n",
       "engine_capacity [cc]      int64\n",
       "insurance                object\n",
       "transmission_type        object\n",
       "kms_driven              float64\n",
       "owner_type               object\n",
       "fuel_type                object\n",
       "max_power [hp]          float64\n",
       "seats                   float64\n",
       "mileage [kmpl]            int64\n",
       "body_type                object\n",
       "city                     object\n",
       "resale_price [USD]      float64\n",
       "dtype: object"
      ]
     },
     "execution_count": 120,
     "metadata": {},
     "output_type": "execute_result"
    }
   ],
   "source": [
    "df.dtypes"
   ]
  },
  {
   "cell_type": "markdown",
   "metadata": {},
   "source": [
    "# Wydzielenie marki i modelu z jednej kolumny"
   ]
  },
  {
   "cell_type": "code",
   "execution_count": null,
   "metadata": {},
   "outputs": [],
   "source": [
    "df[['mark','model']] = df['full_name'].str.split(' ',expand=True)"
   ]
  },
  {
   "cell_type": "code",
   "execution_count": null,
   "metadata": {},
   "outputs": [
    {
     "data": {
      "text/plain": [
       "array(['Maruti', 'Tata', 'Hyundai', 'Honda', 'Toyota', 'Kia', 'Ford',\n",
       "       'Mitsubishi', 'Mahindra', 'Audi', 'Volkswagen', 'Skoda', 'MG',\n",
       "       'Renault', 'Nissan', 'Chevrolet', 'Datsun', 'Jeep', 'BMW',\n",
       "       'Mercedes-Benz', 'Fiat', 'Land', 'Jaguar', 'Volvo', 'Isuzu',\n",
       "       'Mini', 'Citroen', 'Porsche', 'Lexus', 'Force', 'OpelCorsa',\n",
       "       'Daewoo', 'Bentley'], dtype=object)"
      ]
     },
     "execution_count": 122,
     "metadata": {},
     "output_type": "execute_result"
    }
   ],
   "source": [
    "df['mark'].unique()"
   ]
  },
  {
   "cell_type": "code",
   "execution_count": null,
   "metadata": {},
   "outputs": [],
   "source": [
    "df = df.drop(columns=['full_name','city'])"
   ]
  },
  {
   "cell_type": "code",
   "execution_count": null,
   "metadata": {},
   "outputs": [
    {
     "data": {
      "text/html": [
       "<div>\n",
       "<style scoped>\n",
       "    .dataframe tbody tr th:only-of-type {\n",
       "        vertical-align: middle;\n",
       "    }\n",
       "\n",
       "    .dataframe tbody tr th {\n",
       "        vertical-align: top;\n",
       "    }\n",
       "\n",
       "    .dataframe thead th {\n",
       "        text-align: right;\n",
       "    }\n",
       "</style>\n",
       "<table border=\"1\" class=\"dataframe\">\n",
       "  <thead>\n",
       "    <tr style=\"text-align: right;\">\n",
       "      <th></th>\n",
       "      <th>mark</th>\n",
       "      <th>model</th>\n",
       "      <th>registered_year</th>\n",
       "      <th>engine_capacity [cc]</th>\n",
       "      <th>insurance</th>\n",
       "      <th>transmission_type</th>\n",
       "      <th>kms_driven</th>\n",
       "      <th>owner_type</th>\n",
       "      <th>fuel_type</th>\n",
       "      <th>max_power [hp]</th>\n",
       "      <th>seats</th>\n",
       "      <th>mileage [kmpl]</th>\n",
       "      <th>body_type</th>\n",
       "      <th>resale_price [USD]</th>\n",
       "    </tr>\n",
       "  </thead>\n",
       "  <tbody>\n",
       "    <tr>\n",
       "      <th>0</th>\n",
       "      <td>Maruti</td>\n",
       "      <td>Baleno</td>\n",
       "      <td>2017</td>\n",
       "      <td>1197</td>\n",
       "      <td>Third Party</td>\n",
       "      <td>Manual</td>\n",
       "      <td>40000.0</td>\n",
       "      <td>First Owner</td>\n",
       "      <td>Petrol</td>\n",
       "      <td>80.0</td>\n",
       "      <td>5.0</td>\n",
       "      <td>22</td>\n",
       "      <td>Hatchback</td>\n",
       "      <td>6540.0</td>\n",
       "    </tr>\n",
       "    <tr>\n",
       "      <th>1</th>\n",
       "      <td>Tata</td>\n",
       "      <td>Hexa</td>\n",
       "      <td>2018</td>\n",
       "      <td>2179</td>\n",
       "      <td>Third Party</td>\n",
       "      <td>Automatic</td>\n",
       "      <td>70000.0</td>\n",
       "      <td>First Owner</td>\n",
       "      <td>Diesel</td>\n",
       "      <td>150.0</td>\n",
       "      <td>7.0</td>\n",
       "      <td>18</td>\n",
       "      <td>MUV</td>\n",
       "      <td>12000.0</td>\n",
       "    </tr>\n",
       "    <tr>\n",
       "      <th>2</th>\n",
       "      <td>Maruti</td>\n",
       "      <td>Swift</td>\n",
       "      <td>2015</td>\n",
       "      <td>1197</td>\n",
       "      <td>Third Party</td>\n",
       "      <td>Manual</td>\n",
       "      <td>70000.0</td>\n",
       "      <td>Second Owner</td>\n",
       "      <td>Petrol</td>\n",
       "      <td>80.0</td>\n",
       "      <td>5.0</td>\n",
       "      <td>20</td>\n",
       "      <td>Sedan</td>\n",
       "      <td>5400.0</td>\n",
       "    </tr>\n",
       "    <tr>\n",
       "      <th>3</th>\n",
       "      <td>Hyundai</td>\n",
       "      <td>i10</td>\n",
       "      <td>2009</td>\n",
       "      <td>1086</td>\n",
       "      <td>Third Party</td>\n",
       "      <td>Manual</td>\n",
       "      <td>80000.0</td>\n",
       "      <td>First Owner</td>\n",
       "      <td>Petrol</td>\n",
       "      <td>60.0</td>\n",
       "      <td>5.0</td>\n",
       "      <td>20</td>\n",
       "      <td>Hatchback</td>\n",
       "      <td>1920.0</td>\n",
       "    </tr>\n",
       "    <tr>\n",
       "      <th>4</th>\n",
       "      <td>Hyundai</td>\n",
       "      <td>i20</td>\n",
       "      <td>2015</td>\n",
       "      <td>1197</td>\n",
       "      <td>Third Party</td>\n",
       "      <td>Manual</td>\n",
       "      <td>70000.0</td>\n",
       "      <td>First Owner</td>\n",
       "      <td>Petrol</td>\n",
       "      <td>80.0</td>\n",
       "      <td>5.0</td>\n",
       "      <td>18</td>\n",
       "      <td>Hatchback</td>\n",
       "      <td>5640.0</td>\n",
       "    </tr>\n",
       "  </tbody>\n",
       "</table>\n",
       "</div>"
      ],
      "text/plain": [
       "      mark   model  registered_year  engine_capacity [cc]    insurance  \\\n",
       "0   Maruti  Baleno             2017                  1197  Third Party   \n",
       "1     Tata    Hexa             2018                  2179  Third Party   \n",
       "2   Maruti   Swift             2015                  1197  Third Party   \n",
       "3  Hyundai     i10             2009                  1086  Third Party   \n",
       "4  Hyundai     i20             2015                  1197  Third Party   \n",
       "\n",
       "  transmission_type  kms_driven    owner_type fuel_type  max_power [hp]  \\\n",
       "0            Manual     40000.0   First Owner    Petrol            80.0   \n",
       "1         Automatic     70000.0   First Owner    Diesel           150.0   \n",
       "2            Manual     70000.0  Second Owner    Petrol            80.0   \n",
       "3            Manual     80000.0   First Owner    Petrol            60.0   \n",
       "4            Manual     70000.0   First Owner    Petrol            80.0   \n",
       "\n",
       "   seats  mileage [kmpl]  body_type  resale_price [USD]  \n",
       "0    5.0              22  Hatchback              6540.0  \n",
       "1    7.0              18        MUV             12000.0  \n",
       "2    5.0              20      Sedan              5400.0  \n",
       "3    5.0              20  Hatchback              1920.0  \n",
       "4    5.0              18  Hatchback              5640.0  "
      ]
     },
     "execution_count": 124,
     "metadata": {},
     "output_type": "execute_result"
    }
   ],
   "source": [
    "last_two_columns = df.iloc[:, -2:]\n",
    "\n",
    "data_without_last_two = df.iloc[:, :-2]\n",
    "\n",
    "df = pd.concat([last_two_columns, data_without_last_two], axis=1)\n",
    "\n",
    "\n",
    "df.head()"
   ]
  },
  {
   "cell_type": "code",
   "execution_count": null,
   "metadata": {},
   "outputs": [],
   "source": [
    "import matplotlib.pyplot as plt\n",
    "import seaborn as sns"
   ]
  },
  {
   "cell_type": "markdown",
   "metadata": {},
   "source": [
    "# Przygotowanie danych kategorycznych"
   ]
  },
  {
   "cell_type": "code",
   "execution_count": null,
   "metadata": {},
   "outputs": [],
   "source": [
    "from sklearn.preprocessing import LabelEncoder\n",
    "\n",
    "label_encoder = LabelEncoder()\n",
    "\n",
    "df['mark'] = label_encoder.fit_transform(df['mark'])\n",
    "df['model'] = label_encoder.fit_transform(df['model'])\n",
    "df['body_type'] = label_encoder.fit_transform(df['body_type'])\n",
    "\n",
    "df['owner_type'].unique()\n",
    "df['owner_type'] = df['owner_type'].replace({'First Owner':1, 'Second Owner':2, 'Third Owner':3, 'Fifth Owner':4,\n",
    "       'Fourth Owner':5})"
   ]
  },
  {
   "cell_type": "code",
   "execution_count": null,
   "metadata": {},
   "outputs": [
    {
     "name": "stderr",
     "output_type": "stream",
     "text": [
      "C:\\Users\\Lukasz\\AppData\\Local\\Temp\\ipykernel_18816\\2627325459.py:2: FutureWarning: The default value of numeric_only in DataFrame.corr is deprecated. In a future version, it will default to False. Select only valid columns or specify the value of numeric_only to silence this warning.\n",
      "  sns.heatmap(df.corr(), annot=True, cmap='viridis', fmt=\".2f\")\n"
     ]
    },
    {
     "data": {
      "image/png": "[encoded data removed]",
      "text/plain": [
       "<Figure size 1400x800 with 2 Axes>"
      ]
     },
     "metadata": {},
     "output_type": "display_data"
    }
   ],
   "source": [
    "plt.figure(figsize=(14, 8))\n",
    "sns.heatmap(df.corr(), annot=True, cmap='viridis', fmt=\".2f\")\n",
    "plt.title('Macierz korelacji')\n",
    "plt.show()"
   ]
  },
  {
   "cell_type": "markdown",
   "metadata": {},
   "source": [
    "# Przygotowanie danych kategorycznych 2"
   ]
  },
  {
   "cell_type": "code",
   "execution_count": null,
   "metadata": {},
   "outputs": [],
   "source": [
    "categorical_columns = ['insurance', 'transmission_type', 'fuel_type']\n",
    "categorical_encoded = pd.get_dummies(df[categorical_columns],drop_first=True)\n",
    "df = df.drop(columns=categorical_columns)\n",
    "df = pd.concat([df,categorical_encoded],axis=1)"
   ]
  },
  {
   "cell_type": "code",
   "execution_count": null,
   "metadata": {},
   "outputs": [
    {
     "data": {
      "text/html": [
       "<div>\n",
       "<style scoped>\n",
       "    .dataframe tbody tr th:only-of-type {\n",
       "        vertical-align: middle;\n",
       "    }\n",
       "\n",
       "    .dataframe tbody tr th {\n",
       "        vertical-align: top;\n",
       "    }\n",
       "\n",
       "    .dataframe thead th {\n",
       "        text-align: right;\n",
       "    }\n",
       "</style>\n",
       "<table border=\"1\" class=\"dataframe\">\n",
       "  <thead>\n",
       "    <tr style=\"text-align: right;\">\n",
       "      <th></th>\n",
       "      <th>mark</th>\n",
       "      <th>model</th>\n",
       "      <th>registered_year</th>\n",
       "      <th>engine_capacity [cc]</th>\n",
       "      <th>kms_driven</th>\n",
       "      <th>owner_type</th>\n",
       "      <th>max_power [hp]</th>\n",
       "      <th>seats</th>\n",
       "      <th>mileage [kmpl]</th>\n",
       "      <th>body_type</th>\n",
       "      <th>resale_price [USD]</th>\n",
       "      <th>insurance_First</th>\n",
       "      <th>insurance_Second</th>\n",
       "      <th>insurance_Third Party</th>\n",
       "      <th>insurance_Zero Dep</th>\n",
       "      <th>transmission_type_Manual</th>\n",
       "      <th>fuel_type_Diesel</th>\n",
       "      <th>fuel_type_LPG</th>\n",
       "      <th>fuel_type_Petrol</th>\n",
       "    </tr>\n",
       "  </thead>\n",
       "  <tbody>\n",
       "    <tr>\n",
       "      <th>0</th>\n",
       "      <td>20</td>\n",
       "      <td>31</td>\n",
       "      <td>2017</td>\n",
       "      <td>1197</td>\n",
       "      <td>40000.0</td>\n",
       "      <td>1</td>\n",
       "      <td>80.0</td>\n",
       "      <td>5.0</td>\n",
       "      <td>22</td>\n",
       "      <td>2</td>\n",
       "      <td>6540.0</td>\n",
       "      <td>0</td>\n",
       "      <td>0</td>\n",
       "      <td>1</td>\n",
       "      <td>0</td>\n",
       "      <td>1</td>\n",
       "      <td>0</td>\n",
       "      <td>0</td>\n",
       "      <td>1</td>\n",
       "    </tr>\n",
       "    <tr>\n",
       "      <th>1</th>\n",
       "      <td>29</td>\n",
       "      <td>99</td>\n",
       "      <td>2018</td>\n",
       "      <td>2179</td>\n",
       "      <td>70000.0</td>\n",
       "      <td>1</td>\n",
       "      <td>150.0</td>\n",
       "      <td>7.0</td>\n",
       "      <td>18</td>\n",
       "      <td>3</td>\n",
       "      <td>12000.0</td>\n",
       "      <td>0</td>\n",
       "      <td>0</td>\n",
       "      <td>1</td>\n",
       "      <td>0</td>\n",
       "      <td>0</td>\n",
       "      <td>1</td>\n",
       "      <td>0</td>\n",
       "      <td>0</td>\n",
       "    </tr>\n",
       "    <tr>\n",
       "      <th>2</th>\n",
       "      <td>20</td>\n",
       "      <td>183</td>\n",
       "      <td>2015</td>\n",
       "      <td>1197</td>\n",
       "      <td>70000.0</td>\n",
       "      <td>2</td>\n",
       "      <td>80.0</td>\n",
       "      <td>5.0</td>\n",
       "      <td>20</td>\n",
       "      <td>7</td>\n",
       "      <td>5400.0</td>\n",
       "      <td>0</td>\n",
       "      <td>0</td>\n",
       "      <td>1</td>\n",
       "      <td>0</td>\n",
       "      <td>1</td>\n",
       "      <td>0</td>\n",
       "      <td>0</td>\n",
       "      <td>1</td>\n",
       "    </tr>\n",
       "    <tr>\n",
       "      <th>3</th>\n",
       "      <td>11</td>\n",
       "      <td>230</td>\n",
       "      <td>2009</td>\n",
       "      <td>1086</td>\n",
       "      <td>80000.0</td>\n",
       "      <td>1</td>\n",
       "      <td>60.0</td>\n",
       "      <td>5.0</td>\n",
       "      <td>20</td>\n",
       "      <td>2</td>\n",
       "      <td>1920.0</td>\n",
       "      <td>0</td>\n",
       "      <td>0</td>\n",
       "      <td>1</td>\n",
       "      <td>0</td>\n",
       "      <td>1</td>\n",
       "      <td>0</td>\n",
       "      <td>0</td>\n",
       "      <td>1</td>\n",
       "    </tr>\n",
       "    <tr>\n",
       "      <th>4</th>\n",
       "      <td>11</td>\n",
       "      <td>231</td>\n",
       "      <td>2015</td>\n",
       "      <td>1197</td>\n",
       "      <td>70000.0</td>\n",
       "      <td>1</td>\n",
       "      <td>80.0</td>\n",
       "      <td>5.0</td>\n",
       "      <td>18</td>\n",
       "      <td>2</td>\n",
       "      <td>5640.0</td>\n",
       "      <td>0</td>\n",
       "      <td>0</td>\n",
       "      <td>1</td>\n",
       "      <td>0</td>\n",
       "      <td>1</td>\n",
       "      <td>0</td>\n",
       "      <td>0</td>\n",
       "      <td>1</td>\n",
       "    </tr>\n",
       "  </tbody>\n",
       "</table>\n",
       "</div>"
      ],
      "text/plain": [
       "   mark  model  registered_year  engine_capacity [cc]  kms_driven  owner_type  \\\n",
       "0    20     31             2017                  1197     40000.0           1   \n",
       "1    29     99             2018                  2179     70000.0           1   \n",
       "2    20    183             2015                  1197     70000.0           2   \n",
       "3    11    230             2009                  1086     80000.0           1   \n",
       "4    11    231             2015                  1197     70000.0           1   \n",
       "\n",
       "   max_power [hp]  seats  mileage [kmpl]  body_type  resale_price [USD]  \\\n",
       "0            80.0    5.0              22          2              6540.0   \n",
       "1           150.0    7.0              18          3             12000.0   \n",
       "2            80.0    5.0              20          7              5400.0   \n",
       "3            60.0    5.0              20          2              1920.0   \n",
       "4            80.0    5.0              18          2              5640.0   \n",
       "\n",
       "   insurance_First  insurance_Second  insurance_Third Party  \\\n",
       "0                0                 0                      1   \n",
       "1                0                 0                      1   \n",
       "2                0                 0                      1   \n",
       "3                0                 0                      1   \n",
       "4                0                 0                      1   \n",
       "\n",
       "   insurance_Zero Dep  transmission_type_Manual  fuel_type_Diesel  \\\n",
       "0                   0                         1                 0   \n",
       "1                   0                         0                 1   \n",
       "2                   0                         1                 0   \n",
       "3                   0                         1                 0   \n",
       "4                   0                         1                 0   \n",
       "\n",
       "   fuel_type_LPG  fuel_type_Petrol  \n",
       "0              0                 1  \n",
       "1              0                 0  \n",
       "2              0                 1  \n",
       "3              0                 1  \n",
       "4              0                 1  "
      ]
     },
     "execution_count": 129,
     "metadata": {},
     "output_type": "execute_result"
    }
   ],
   "source": [
    "df.head()"
   ]
  },
  {
   "cell_type": "code",
   "execution_count": null,
   "metadata": {},
   "outputs": [],
   "source": [
    "X = df.drop(columns=['resale_price [USD]'])\n",
    "\n",
    "y = df['resale_price [USD]']"
   ]
  },
  {
   "cell_type": "code",
   "execution_count": null,
   "metadata": {},
   "outputs": [],
   "source": [
    "from sklearn.linear_model import LinearRegression, Lasso\n",
    "from sklearn.ensemble import RandomForestRegressor, AdaBoostRegressor\n",
    "from sklearn.neighbors import KNeighborsRegressor\n",
    "from sklearn.tree import DecisionTreeRegressor\n",
    "import pandas as pd\n",
    "import numpy as np\n",
    "from sklearn.metrics import mean_squared_error, mean_absolute_error, r2_score\n",
    "from sklearn.model_selection import train_test_split"
   ]
  },
  {
   "cell_type": "markdown",
   "metadata": {},
   "source": [
    "# 1 Proba stworzenia modeli bez skalowania wartosci:"
   ]
  },
  {
   "cell_type": "code",
   "execution_count": null,
   "metadata": {},
   "outputs": [],
   "source": [
    "models = [LinearRegression(), RandomForestRegressor(),\n",
    "          AdaBoostRegressor(), KNeighborsRegressor(), DecisionTreeRegressor(),\n",
    "          Lasso()]\n",
    "model_names = [\"LinearRegression\", \"RandomForestRegressor\", \"AdaBoostRegressor\",\n",
    "               \"KNeighborsRegressor\", \"DecisionTreeRegressor\", \"Lasso\"]"
   ]
  },
  {
   "cell_type": "code",
   "execution_count": null,
   "metadata": {},
   "outputs": [],
   "source": [
    "MSE = []\n",
    "MAE = []\n",
    "RMSE = []\n",
    "R_squared = []\n",
    "accuracy = []\n",
    "\n",
    "\n",
    "X_train, X_test, y_train, y_test = train_test_split(X, y, test_size=0.2, random_state=42)"
   ]
  },
  {
   "cell_type": "code",
   "execution_count": null,
   "metadata": {},
   "outputs": [
    {
     "data": {
      "text/html": [
       "<div>\n",
       "<style scoped>\n",
       "    .dataframe tbody tr th:only-of-type {\n",
       "        vertical-align: middle;\n",
       "    }\n",
       "\n",
       "    .dataframe tbody tr th {\n",
       "        vertical-align: top;\n",
       "    }\n",
       "\n",
       "    .dataframe thead th {\n",
       "        text-align: right;\n",
       "    }\n",
       "</style>\n",
       "<table border=\"1\" class=\"dataframe\">\n",
       "  <thead>\n",
       "    <tr style=\"text-align: right;\">\n",
       "      <th></th>\n",
       "      <th>Model Name</th>\n",
       "      <th>MSE</th>\n",
       "      <th>MAE</th>\n",
       "      <th>RMSE</th>\n",
       "      <th>R-squared</th>\n",
       "      <th>Accuracy</th>\n",
       "    </tr>\n",
       "  </thead>\n",
       "  <tbody>\n",
       "    <tr>\n",
       "      <th>0</th>\n",
       "      <td>LinearRegression</td>\n",
       "      <td>4.984303e+07</td>\n",
       "      <td>3679.619935</td>\n",
       "      <td>7059.959720</td>\n",
       "      <td>0.654885</td>\n",
       "      <td>65.488549</td>\n",
       "    </tr>\n",
       "    <tr>\n",
       "      <th>1</th>\n",
       "      <td>RandomForestRegressor</td>\n",
       "      <td>1.724716e+07</td>\n",
       "      <td>1408.944389</td>\n",
       "      <td>4152.969607</td>\n",
       "      <td>0.880580</td>\n",
       "      <td>88.058022</td>\n",
       "    </tr>\n",
       "    <tr>\n",
       "      <th>2</th>\n",
       "      <td>AdaBoostRegressor</td>\n",
       "      <td>7.142428e+07</td>\n",
       "      <td>5986.739811</td>\n",
       "      <td>8451.288581</td>\n",
       "      <td>0.505456</td>\n",
       "      <td>50.545634</td>\n",
       "    </tr>\n",
       "    <tr>\n",
       "      <th>3</th>\n",
       "      <td>KNeighborsRegressor</td>\n",
       "      <td>6.343055e+07</td>\n",
       "      <td>3787.497308</td>\n",
       "      <td>7964.329951</td>\n",
       "      <td>0.560805</td>\n",
       "      <td>56.080513</td>\n",
       "    </tr>\n",
       "    <tr>\n",
       "      <th>4</th>\n",
       "      <td>DecisionTreeRegressor</td>\n",
       "      <td>2.260598e+07</td>\n",
       "      <td>1778.550810</td>\n",
       "      <td>4754.574261</td>\n",
       "      <td>0.843476</td>\n",
       "      <td>84.347560</td>\n",
       "    </tr>\n",
       "    <tr>\n",
       "      <th>5</th>\n",
       "      <td>Lasso</td>\n",
       "      <td>4.983795e+07</td>\n",
       "      <td>3677.932553</td>\n",
       "      <td>7059.599838</td>\n",
       "      <td>0.654921</td>\n",
       "      <td>65.492067</td>\n",
       "    </tr>\n",
       "  </tbody>\n",
       "</table>\n",
       "</div>"
      ],
      "text/plain": [
       "              Model Name           MSE          MAE         RMSE  R-squared  \\\n",
       "0       LinearRegression  4.984303e+07  3679.619935  7059.959720   0.654885   \n",
       "1  RandomForestRegressor  1.724716e+07  1408.944389  4152.969607   0.880580   \n",
       "2      AdaBoostRegressor  7.142428e+07  5986.739811  8451.288581   0.505456   \n",
       "3    KNeighborsRegressor  6.343055e+07  3787.497308  7964.329951   0.560805   \n",
       "4  DecisionTreeRegressor  2.260598e+07  1778.550810  4754.574261   0.843476   \n",
       "5                  Lasso  4.983795e+07  3677.932553  7059.599838   0.654921   \n",
       "\n",
       "    Accuracy  \n",
       "0  65.488549  \n",
       "1  88.058022  \n",
       "2  50.545634  \n",
       "3  56.080513  \n",
       "4  84.347560  \n",
       "5  65.492067  "
      ]
     },
     "execution_count": 134,
     "metadata": {},
     "output_type": "execute_result"
    }
   ],
   "source": [
    "for model, model_name in zip(models, model_names):\n",
    "\n",
    "    model.fit(X_train, y_train)\n",
    "    y_pred = model.predict(X_test)\n",
    "    r_squared = r2_score(y_test, y_pred)\n",
    "    mse = mean_squared_error(y_test, y_pred)\n",
    "    rmse = np.sqrt(mse)\n",
    "    mae = mean_absolute_error(y_test, y_pred)\n",
    "    R_squared.append(r_squared)\n",
    "    MSE.append(mse)\n",
    "    RMSE.append(rmse)\n",
    "    MAE.append(mae)\n",
    "\n",
    "model_report = pd.DataFrame({'Model Name': model_names,\n",
    "                             'MSE': MSE,\n",
    "                             'MAE': MAE,\n",
    "                             'RMSE': RMSE,\n",
    "                             'R-squared': R_squared})\n",
    "\n",
    "model_report"
   ]
  },
  {
   "cell_type": "markdown",
   "metadata": {},
   "source": [
    "# 2 Proba z przeskalowanymi wartosciami"
   ]
  },
  {
   "cell_type": "code",
   "execution_count": null,
   "metadata": {},
   "outputs": [],
   "source": [
    "from sklearn.preprocessing import MinMaxScaler\n",
    "\n",
    "scaler = MinMaxScaler()\n",
    "df[[\"engine_capacity [cc]\"]] = scaler.fit_transform(df[[\"engine_capacity [cc]\"]])\n",
    "df[[\"kms_driven\"]] = scaler.fit_transform(df[[\"kms_driven\"]])\n",
    "df[[\"mileage [kmpl]\"]] = scaler.fit_transform(df[[\"mileage [kmpl]\"]])\n",
    "#df[[\"resale_price [USD]\"]] = scaler.fit_transform(df[[\"resale_price [USD]\"]])\n",
    "df[[\"registered_year\"]] = scaler.fit_transform(df[[\"registered_year\"]])\n",
    "df[[\"max_power [hp]\"]] = scaler.fit_transform(df[[\"max_power [hp]\"]])\n",
    "df[[\"seats\"]] = scaler.fit_transform(df[[\"seats\"]])\n"
   ]
  },
  {
   "cell_type": "code",
   "execution_count": null,
   "metadata": {},
   "outputs": [],
   "source": [
    "X = df.drop(columns=['resale_price [USD]'])\n",
    "\n",
    "y = df['resale_price [USD]']"
   ]
  },
  {
   "cell_type": "code",
   "execution_count": null,
   "metadata": {},
   "outputs": [],
   "source": [
    "models = [LinearRegression(), RandomForestRegressor(),\n",
    "          AdaBoostRegressor(), KNeighborsRegressor(), DecisionTreeRegressor(),\n",
    "          Lasso()]\n",
    "model_names = [\"LinearRegression\", \"RandomForestRegressor\", \"AdaBoostRegressor\",\n",
    "               \"KNeighborsRegressor\", \"DecisionTreeRegressor\", \"Lasso\"]"
   ]
  },
  {
   "cell_type": "code",
   "execution_count": null,
   "metadata": {},
   "outputs": [],
   "source": [
    "MSE = []\n",
    "MAE = []\n",
    "RMSE = []\n",
    "R_squared = []\n",
    "accuracy = []\n",
    "\n",
    "\n",
    "X_train, X_test, y_train, y_test = train_test_split(X, y, test_size=0.2, random_state=42)"
   ]
  },
  {
   "cell_type": "code",
   "execution_count": null,
   "metadata": {},
   "outputs": [
    {
     "data": {
      "text/html": [
       "<div>\n",
       "<style scoped>\n",
       "    .dataframe tbody tr th:only-of-type {\n",
       "        vertical-align: middle;\n",
       "    }\n",
       "\n",
       "    .dataframe tbody tr th {\n",
       "        vertical-align: top;\n",
       "    }\n",
       "\n",
       "    .dataframe thead th {\n",
       "        text-align: right;\n",
       "    }\n",
       "</style>\n",
       "<table border=\"1\" class=\"dataframe\">\n",
       "  <thead>\n",
       "    <tr style=\"text-align: right;\">\n",
       "      <th></th>\n",
       "      <th>Model Name</th>\n",
       "      <th>MSE</th>\n",
       "      <th>MAE</th>\n",
       "      <th>RMSE</th>\n",
       "      <th>R-squared</th>\n",
       "      <th>Accuracy</th>\n",
       "    </tr>\n",
       "  </thead>\n",
       "  <tbody>\n",
       "    <tr>\n",
       "      <th>0</th>\n",
       "      <td>LinearRegression</td>\n",
       "      <td>4.984303e+07</td>\n",
       "      <td>3679.619935</td>\n",
       "      <td>7059.959720</td>\n",
       "      <td>0.654885</td>\n",
       "      <td>65.488549</td>\n",
       "    </tr>\n",
       "    <tr>\n",
       "      <th>1</th>\n",
       "      <td>RandomForestRegressor</td>\n",
       "      <td>1.711293e+07</td>\n",
       "      <td>1409.144650</td>\n",
       "      <td>4136.777725</td>\n",
       "      <td>0.881510</td>\n",
       "      <td>88.150961</td>\n",
       "    </tr>\n",
       "    <tr>\n",
       "      <th>2</th>\n",
       "      <td>AdaBoostRegressor</td>\n",
       "      <td>7.606797e+07</td>\n",
       "      <td>6613.762577</td>\n",
       "      <td>8721.695602</td>\n",
       "      <td>0.473303</td>\n",
       "      <td>47.330327</td>\n",
       "    </tr>\n",
       "    <tr>\n",
       "      <th>3</th>\n",
       "      <td>KNeighborsRegressor</td>\n",
       "      <td>3.929878e+07</td>\n",
       "      <td>1991.289975</td>\n",
       "      <td>6268.874177</td>\n",
       "      <td>0.727894</td>\n",
       "      <td>72.789415</td>\n",
       "    </tr>\n",
       "    <tr>\n",
       "      <th>4</th>\n",
       "      <td>DecisionTreeRegressor</td>\n",
       "      <td>2.219413e+07</td>\n",
       "      <td>1762.949907</td>\n",
       "      <td>4711.064371</td>\n",
       "      <td>0.846327</td>\n",
       "      <td>84.632725</td>\n",
       "    </tr>\n",
       "    <tr>\n",
       "      <th>5</th>\n",
       "      <td>Lasso</td>\n",
       "      <td>4.979655e+07</td>\n",
       "      <td>3672.612110</td>\n",
       "      <td>7056.667111</td>\n",
       "      <td>0.655207</td>\n",
       "      <td>65.520732</td>\n",
       "    </tr>\n",
       "  </tbody>\n",
       "</table>\n",
       "</div>"
      ],
      "text/plain": [
       "              Model Name           MSE          MAE         RMSE  R-squared  \\\n",
       "0       LinearRegression  4.984303e+07  3679.619935  7059.959720   0.654885   \n",
       "1  RandomForestRegressor  1.711293e+07  1409.144650  4136.777725   0.881510   \n",
       "2      AdaBoostRegressor  7.606797e+07  6613.762577  8721.695602   0.473303   \n",
       "3    KNeighborsRegressor  3.929878e+07  1991.289975  6268.874177   0.727894   \n",
       "4  DecisionTreeRegressor  2.219413e+07  1762.949907  4711.064371   0.846327   \n",
       "5                  Lasso  4.979655e+07  3672.612110  7056.667111   0.655207   \n",
       "\n",
       "    Accuracy  \n",
       "0  65.488549  \n",
       "1  88.150961  \n",
       "2  47.330327  \n",
       "3  72.789415  \n",
       "4  84.632725  \n",
       "5  65.520732  "
      ]
     },
     "execution_count": 139,
     "metadata": {},
     "output_type": "execute_result"
    }
   ],
   "source": [
    "for model, model_name in zip(models, model_names):\n",
    "\n",
    "    model.fit(X_train, y_train)\n",
    "    y_pred = model.predict(X_test)\n",
    "    r_squared = r2_score(y_test, y_pred)\n",
    "    mse = mean_squared_error(y_test, y_pred)\n",
    "    rmse = np.sqrt(mse)\n",
    "    mae = mean_absolute_error(y_test, y_pred)\n",
    "    R_squared.append(r_squared)\n",
    "    MSE.append(mse)\n",
    "    RMSE.append(rmse)\n",
    "    MAE.append(mae)\n",
    "\n",
    "model_report = pd.DataFrame({'Model Name': model_names,\n",
    "                             'MSE': MSE,\n",
    "                             'MAE': MAE,\n",
    "                             'RMSE': RMSE,\n",
    "                             'R-squared': R_squared})\n",
    "\n",
    "model_report"
   ]
  },
  {
   "cell_type": "markdown",
   "metadata": {},
   "source": [
    "Patrzac na powyzsze wyniki wiekszosc modeli z przeskalowanymi wartosciami uzyskuja lepsze wyniki"
   ]
  },
  {
   "cell_type": "markdown",
   "metadata": {},
   "source": [
    "# Kolejna proba bedzie zbudowanie modeli na danych przeskalowanych, pozostawiajac tylko te najbardziej wplywowe kolumny (bazujac na macierzy korelacji)."
   ]
  },
  {
   "cell_type": "code",
   "execution_count": null,
   "metadata": {},
   "outputs": [],
   "source": [
    "X = df.drop(columns=['resale_price [USD]','mark','model','owner_type'])\n",
    "\n",
    "y = df['resale_price [USD]']"
   ]
  },
  {
   "cell_type": "code",
   "execution_count": null,
   "metadata": {},
   "outputs": [],
   "source": [
    "models = [LinearRegression(), RandomForestRegressor(),\n",
    "          AdaBoostRegressor(), KNeighborsRegressor(), DecisionTreeRegressor(),\n",
    "          Lasso()]\n",
    "model_names = [\"LinearRegression\", \"RandomForestRegressor\", \"AdaBoostRegressor\",\n",
    "               \"KNeighborsRegressor\", \"DecisionTreeRegressor\", \"Lasso\"]"
   ]
  },
  {
   "cell_type": "code",
   "execution_count": null,
   "metadata": {},
   "outputs": [],
   "source": [
    "MSE = []\n",
    "MAE = []\n",
    "RMSE = []\n",
    "R_squared = []\n",
    "accuracy = []\n",
    "\n",
    "\n",
    "X_train, X_test, y_train, y_test = train_test_split(X, y, test_size=0.2, random_state=42)"
   ]
  },
  {
   "cell_type": "code",
   "execution_count": null,
   "metadata": {},
   "outputs": [
    {
     "data": {
      "text/html": [
       "<div>\n",
       "<style scoped>\n",
       "    .dataframe tbody tr th:only-of-type {\n",
       "        vertical-align: middle;\n",
       "    }\n",
       "\n",
       "    .dataframe tbody tr th {\n",
       "        vertical-align: top;\n",
       "    }\n",
       "\n",
       "    .dataframe thead th {\n",
       "        text-align: right;\n",
       "    }\n",
       "</style>\n",
       "<table border=\"1\" class=\"dataframe\">\n",
       "  <thead>\n",
       "    <tr style=\"text-align: right;\">\n",
       "      <th></th>\n",
       "      <th>Model Name</th>\n",
       "      <th>MSE</th>\n",
       "      <th>MAE</th>\n",
       "      <th>RMSE</th>\n",
       "      <th>R-squared</th>\n",
       "      <th>Accuracy</th>\n",
       "    </tr>\n",
       "  </thead>\n",
       "  <tbody>\n",
       "    <tr>\n",
       "      <th>0</th>\n",
       "      <td>LinearRegression</td>\n",
       "      <td>5.000823e+07</td>\n",
       "      <td>3683.220483</td>\n",
       "      <td>7071.649602</td>\n",
       "      <td>0.653742</td>\n",
       "      <td>65.374166</td>\n",
       "    </tr>\n",
       "    <tr>\n",
       "      <th>1</th>\n",
       "      <td>RandomForestRegressor</td>\n",
       "      <td>1.721033e+07</td>\n",
       "      <td>1545.889414</td>\n",
       "      <td>4148.533891</td>\n",
       "      <td>0.880835</td>\n",
       "      <td>88.083518</td>\n",
       "    </tr>\n",
       "    <tr>\n",
       "      <th>2</th>\n",
       "      <td>AdaBoostRegressor</td>\n",
       "      <td>5.652990e+07</td>\n",
       "      <td>4743.481448</td>\n",
       "      <td>7518.636758</td>\n",
       "      <td>0.608585</td>\n",
       "      <td>60.858544</td>\n",
       "    </tr>\n",
       "    <tr>\n",
       "      <th>3</th>\n",
       "      <td>KNeighborsRegressor</td>\n",
       "      <td>2.553155e+07</td>\n",
       "      <td>1912.855335</td>\n",
       "      <td>5052.875133</td>\n",
       "      <td>0.823219</td>\n",
       "      <td>82.321887</td>\n",
       "    </tr>\n",
       "    <tr>\n",
       "      <th>4</th>\n",
       "      <td>DecisionTreeRegressor</td>\n",
       "      <td>2.450895e+07</td>\n",
       "      <td>1957.570725</td>\n",
       "      <td>4950.651239</td>\n",
       "      <td>0.830299</td>\n",
       "      <td>83.029938</td>\n",
       "    </tr>\n",
       "    <tr>\n",
       "      <th>5</th>\n",
       "      <td>Lasso</td>\n",
       "      <td>4.995471e+07</td>\n",
       "      <td>3675.513970</td>\n",
       "      <td>7067.864750</td>\n",
       "      <td>0.654112</td>\n",
       "      <td>65.411221</td>\n",
       "    </tr>\n",
       "  </tbody>\n",
       "</table>\n",
       "</div>"
      ],
      "text/plain": [
       "              Model Name           MSE          MAE         RMSE  R-squared  \\\n",
       "0       LinearRegression  5.000823e+07  3683.220483  7071.649602   0.653742   \n",
       "1  RandomForestRegressor  1.721033e+07  1545.889414  4148.533891   0.880835   \n",
       "2      AdaBoostRegressor  5.652990e+07  4743.481448  7518.636758   0.608585   \n",
       "3    KNeighborsRegressor  2.553155e+07  1912.855335  5052.875133   0.823219   \n",
       "4  DecisionTreeRegressor  2.450895e+07  1957.570725  4950.651239   0.830299   \n",
       "5                  Lasso  4.995471e+07  3675.513970  7067.864750   0.654112   \n",
       "\n",
       "    Accuracy  \n",
       "0  65.374166  \n",
       "1  88.083518  \n",
       "2  60.858544  \n",
       "3  82.321887  \n",
       "4  83.029938  \n",
       "5  65.411221  "
      ]
     },
     "execution_count": 143,
     "metadata": {},
     "output_type": "execute_result"
    }
   ],
   "source": [
    "for model, model_name in zip(models, model_names):\n",
    "\n",
    "    model.fit(X_train, y_train)\n",
    "    y_pred = model.predict(X_test)\n",
    "    r_squared = r2_score(y_test, y_pred)\n",
    "    mse = mean_squared_error(y_test, y_pred)\n",
    "    rmse = np.sqrt(mse)\n",
    "    mae = mean_absolute_error(y_test, y_pred)\n",
    "    R_squared.append(r_squared)\n",
    "    MSE.append(mse)\n",
    "    RMSE.append(rmse)\n",
    "    MAE.append(mae)\n",
    "\n",
    "model_report = pd.DataFrame({'Model Name': model_names,\n",
    "                             'MSE': MSE,\n",
    "                             'MAE': MAE,\n",
    "                             'RMSE': RMSE,\n",
    "                             'R-squared': R_squared})\n",
    "\n",
    "model_report"
   ]
  },
  {
   "cell_type": "markdown",
   "metadata": {},
   "source": [
    "Widzimy ze w niektorych modelach parametry ulegly poprawie. Patrzac jednak na konkretny model, widzimy ze RandomForestRegressor uzyskuje bardzo zblizone wyniki(nawet troche gorsze). Spróbujmy wiec na modelu tym (korzystajac jednak ze wszystkich kolumn) uzyc techniki GridSearchCV w celu znalezienia najbardziej optymalnych hiperparametrow."
   ]
  },
  {
   "cell_type": "code",
   "execution_count": null,
   "metadata": {},
   "outputs": [],
   "source": [
    "model = RandomForestRegressor()"
   ]
  },
  {
   "cell_type": "markdown",
   "metadata": {},
   "source": [
    "# Uzycie GridSearchCV w celu znalezienia najbardziej optyalnych parametrow"
   ]
  },
  {
   "cell_type": "code",
   "execution_count": null,
   "metadata": {},
   "outputs": [],
   "source": [
    "X = df.drop(columns=['resale_price [USD]'])\n",
    "\n",
    "y = df['resale_price [USD]']"
   ]
  },
  {
   "cell_type": "code",
   "execution_count": null,
   "metadata": {},
   "outputs": [],
   "source": [
    "X_train, X_test, y_train, y_test = train_test_split(X, y, test_size=0.25, random_state=42)"
   ]
  },
  {
   "cell_type": "code",
   "execution_count": null,
   "metadata": {},
   "outputs": [],
   "source": [
    "param_grid = {\n",
    "    \"n_estimators\" : [100,150,250],\n",
    "}"
   ]
  },
  {
   "cell_type": "code",
   "execution_count": null,
   "metadata": {},
   "outputs": [
    {
     "data": {
      "text/plain": [
       "{'n_estimators': 250}"
      ]
     },
     "execution_count": 148,
     "metadata": {},
     "output_type": "execute_result"
    }
   ],
   "source": [
    "from sklearn.model_selection import GridSearchCV\n",
    "\n",
    "grid = GridSearchCV(model,param_grid)\n",
    "grid.fit(X_train,y_train)\n",
    "grid.best_params_"
   ]
  },
  {
   "cell_type": "code",
   "execution_count": null,
   "metadata": {},
   "outputs": [],
   "source": [
    "MSE = []\n",
    "MAE = []\n",
    "RMSE = []\n",
    "R_squared = []"
   ]
  },
  {
   "cell_type": "code",
   "execution_count": null,
   "metadata": {},
   "outputs": [],
   "source": [
    "best_model = grid.best_estimator_"
   ]
  },
  {
   "cell_type": "code",
   "execution_count": null,
   "metadata": {},
   "outputs": [
    {
     "data": {
      "text/html": [
       "<div>\n",
       "<style scoped>\n",
       "    .dataframe tbody tr th:only-of-type {\n",
       "        vertical-align: middle;\n",
       "    }\n",
       "\n",
       "    .dataframe tbody tr th {\n",
       "        vertical-align: top;\n",
       "    }\n",
       "\n",
       "    .dataframe thead th {\n",
       "        text-align: right;\n",
       "    }\n",
       "</style>\n",
       "<table border=\"1\" class=\"dataframe\">\n",
       "  <thead>\n",
       "    <tr style=\"text-align: right;\">\n",
       "      <th></th>\n",
       "      <th>Model Name</th>\n",
       "      <th>MSE</th>\n",
       "      <th>MAE</th>\n",
       "      <th>RMSE</th>\n",
       "      <th>R-squared</th>\n",
       "      <th>Accuracy</th>\n",
       "    </tr>\n",
       "  </thead>\n",
       "  <tbody>\n",
       "    <tr>\n",
       "      <th>0</th>\n",
       "      <td>RandomForestRegressor</td>\n",
       "      <td>1.577563e+07</td>\n",
       "      <td>1396.107726</td>\n",
       "      <td>3971.85445</td>\n",
       "      <td>0.890637</td>\n",
       "      <td>89.063688</td>\n",
       "    </tr>\n",
       "  </tbody>\n",
       "</table>\n",
       "</div>"
      ],
      "text/plain": [
       "              Model Name           MSE          MAE        RMSE  R-squared  \\\n",
       "0  RandomForestRegressor  1.577563e+07  1396.107726  3971.85445   0.890637   \n",
       "\n",
       "    Accuracy  \n",
       "0  89.063688  "
      ]
     },
     "execution_count": 151,
     "metadata": {},
     "output_type": "execute_result"
    }
   ],
   "source": [
    "y_pred = best_model.predict(X_test)\n",
    "r_squared = r2_score(y_test, y_pred)\n",
    "mse = mean_squared_error(y_test, y_pred)\n",
    "rmse = np.sqrt(mse)\n",
    "mae = mean_absolute_error(y_test, y_pred)\n",
    "R_squared.append(r_squared)\n",
    "MSE.append(mse)\n",
    "RMSE.append(rmse)\n",
    "MAE.append(mae)\n",
    "\n",
    "model_report = pd.DataFrame({'Model Name': 'RandomForestRegressor',\n",
    "                             'MSE': MSE,\n",
    "                             'MAE': MAE,\n",
    "                             'RMSE': RMSE,\n",
    "                             'R-squared': R_squared})\n",
    "\n",
    "model_report"
   ]
  },
  {
   "cell_type": "markdown",
   "metadata": {},
   "source": [
    "Widzimy, że dany model uzyskuje dosłownie wszystkie parametry lepsze w porównaniu ze swoją poprzednią wersją (z przeskalowanymi wartościami i wszystkimi atrybutami) "
   ]
  },
  {
   "cell_type": "markdown",
   "metadata": {},
   "source": [
    "# Zapis modelu do pliku"
   ]
  },
  {
   "cell_type": "code",
   "execution_count": null,
   "metadata": {},
   "outputs": [],
   "source": [
    "import pickle\n",
    "\n",
    "with open('best_model.pkl', 'wb') as file:\n",
    "    pickle.dump(best_model, file)"
   ]
  }
 ],
 "metadata": {
  "kernelspec": {
   "display_name": "Python 3",
   "language": "python",
   "name": "python3"
  },
  "language_info": {
   "codemirror_mode": {
    "name": "ipython",
    "version": 3
   },
   "file_extension": ".py",
   "mimetype": "text/x-python",
   "name": "python",
   "nbconvert_exporter": "python",
   "pygments_lexer": "ipython3",
   "version": "3.11.9"
  }
 },
 "nbformat": 4,
 "nbformat_minor": 2
}
